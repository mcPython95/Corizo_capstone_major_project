{
 "cells": [
  {
   "cell_type": "markdown",
   "id": "a85552d2-a309-47cc-a2ed-248ddf15f0d0",
   "metadata": {},
   "source": [
    "#  Capstone 2"
   ]
  },
  {
   "cell_type": "markdown",
   "id": "bd6bdb9c-d722-4971-bbdb-4f74c8f92efa",
   "metadata": {},
   "source": [
    "### Domain\n"
   ]
  },
  {
   "cell_type": "markdown",
   "id": "f692f8ff-af63-4bdf-aa1e-32b64501c127",
   "metadata": {},
   "source": [
    "##### Semiconductor Manufacturing Process"
   ]
  },
  {
   "cell_type": "markdown",
   "id": "8de71270-f3ea-4725-968b-d85076adeb08",
   "metadata": {},
   "source": [
    "### Context"
   ]
  },
  {
   "cell_type": "markdown",
   "id": "55ea2eb8-e037-4a28-ac61-6e8891154f74",
   "metadata": {},
   "source": [
    "##### In semiconductor manufacturing, various sensor signals are monitored to predict the yield of production processes. The dataset comprises numerous features that may contain noise and irrelevant information. The objective is to apply feature selection to identify the most relevant signals impacting yield and build a classifier to predict pass/fail outcomes."
   ]
  },
  {
   "cell_type": "markdown",
   "id": "86efb274-2d99-47f1-8024-b29d988c13f5",
   "metadata": {},
   "source": [
    "### Project Objective"
   ]
  },
  {
   "cell_type": "markdown",
   "id": "4b96cb50-7532-4b3c-aadf-3633af216431",
   "metadata": {},
   "source": [
    "##### To build a classifier that predicts the pass/fail yield of production entities while analyzing the necessity of all features for model accuracy."
   ]
  },
  {
   "cell_type": "markdown",
   "id": "b568f87e-a23c-4314-8650-cd4f664ca1f1",
   "metadata": {},
   "source": [
    "### 1. Import and explore the data"
   ]
  },
  {
   "cell_type": "markdown",
   "id": "5dd4d6b1-9f4c-40dc-b106-3e3d82e75757",
   "metadata": {},
   "source": [
    "### First, we need to import the required libraries "
   ]
  },
  {
   "cell_type": "code",
   "execution_count": 1,
   "id": "67fa16a8-165c-4c67-9ce4-77bdee321ddd",
   "metadata": {},
   "outputs": [],
   "source": [
    "import pandas as pd\n",
    "import numpy as np\n",
    "import matplotlib.pyplot as plt\n",
    "import seaborn as sns\n"
   ]
  },
  {
   "cell_type": "markdown",
   "id": "37df1a17-9522-4e16-8d10-0ac488e604b4",
   "metadata": {},
   "source": [
    "##### The libraries have been successfully imported. These are the core tools needed in data analysis and visualization.\n"
   ]
  },
  {
   "cell_type": "markdown",
   "id": "e92ae683-ad0d-4910-bd6f-df1caf04ef92",
   "metadata": {},
   "source": [
    "### And then load the data\n"
   ]
  },
  {
   "cell_type": "code",
   "execution_count": 2,
   "id": "7080eb74-44a4-47ae-8359-63d167b05479",
   "metadata": {},
   "outputs": [],
   "source": [
    "df = pd.read_csv('signal-data.csv')\n"
   ]
  },
  {
   "cell_type": "markdown",
   "id": "85c65978-44fe-4bd4-b32e-84ce16da8dd4",
   "metadata": {},
   "source": [
    "##### We should now load this into a pandas DataFrame. We can print out the first few rows with its head method that will allow us to see the column names as well as sample values that will help us know the nature of data and look for missing data or other potential issues to address.\n",
    "\n"
   ]
  },
  {
   "cell_type": "markdown",
   "id": "66fbd353-761a-4cd8-b189-7c071d940dea",
   "metadata": {},
   "source": [
    "### Display the first five rows of the DataFrame"
   ]
  },
  {
   "cell_type": "code",
   "execution_count": 3,
   "id": "8684a1fb-ce57-425c-b72d-2cce4a7d4ea2",
   "metadata": {},
   "outputs": [
    {
     "data": {
      "text/html": [
       "<div>\n",
       "<style scoped>\n",
       "    .dataframe tbody tr th:only-of-type {\n",
       "        vertical-align: middle;\n",
       "    }\n",
       "\n",
       "    .dataframe tbody tr th {\n",
       "        vertical-align: top;\n",
       "    }\n",
       "\n",
       "    .dataframe thead th {\n",
       "        text-align: right;\n",
       "    }\n",
       "</style>\n",
       "<table border=\"1\" class=\"dataframe\">\n",
       "  <thead>\n",
       "    <tr style=\"text-align: right;\">\n",
       "      <th></th>\n",
       "      <th>Time</th>\n",
       "      <th>0</th>\n",
       "      <th>1</th>\n",
       "      <th>2</th>\n",
       "      <th>3</th>\n",
       "      <th>4</th>\n",
       "      <th>5</th>\n",
       "      <th>6</th>\n",
       "      <th>7</th>\n",
       "      <th>8</th>\n",
       "      <th>...</th>\n",
       "      <th>581</th>\n",
       "      <th>582</th>\n",
       "      <th>583</th>\n",
       "      <th>584</th>\n",
       "      <th>585</th>\n",
       "      <th>586</th>\n",
       "      <th>587</th>\n",
       "      <th>588</th>\n",
       "      <th>589</th>\n",
       "      <th>Pass/Fail</th>\n",
       "    </tr>\n",
       "  </thead>\n",
       "  <tbody>\n",
       "    <tr>\n",
       "      <th>0</th>\n",
       "      <td>2008-07-19 11:55:00</td>\n",
       "      <td>3030.93</td>\n",
       "      <td>2564.00</td>\n",
       "      <td>2187.7333</td>\n",
       "      <td>1411.1265</td>\n",
       "      <td>1.3602</td>\n",
       "      <td>100.0</td>\n",
       "      <td>97.6133</td>\n",
       "      <td>0.1242</td>\n",
       "      <td>1.5005</td>\n",
       "      <td>...</td>\n",
       "      <td>NaN</td>\n",
       "      <td>0.5005</td>\n",
       "      <td>0.0118</td>\n",
       "      <td>0.0035</td>\n",
       "      <td>2.3630</td>\n",
       "      <td>NaN</td>\n",
       "      <td>NaN</td>\n",
       "      <td>NaN</td>\n",
       "      <td>NaN</td>\n",
       "      <td>-1</td>\n",
       "    </tr>\n",
       "    <tr>\n",
       "      <th>1</th>\n",
       "      <td>2008-07-19 12:32:00</td>\n",
       "      <td>3095.78</td>\n",
       "      <td>2465.14</td>\n",
       "      <td>2230.4222</td>\n",
       "      <td>1463.6606</td>\n",
       "      <td>0.8294</td>\n",
       "      <td>100.0</td>\n",
       "      <td>102.3433</td>\n",
       "      <td>0.1247</td>\n",
       "      <td>1.4966</td>\n",
       "      <td>...</td>\n",
       "      <td>208.2045</td>\n",
       "      <td>0.5019</td>\n",
       "      <td>0.0223</td>\n",
       "      <td>0.0055</td>\n",
       "      <td>4.4447</td>\n",
       "      <td>0.0096</td>\n",
       "      <td>0.0201</td>\n",
       "      <td>0.0060</td>\n",
       "      <td>208.2045</td>\n",
       "      <td>-1</td>\n",
       "    </tr>\n",
       "    <tr>\n",
       "      <th>2</th>\n",
       "      <td>2008-07-19 13:17:00</td>\n",
       "      <td>2932.61</td>\n",
       "      <td>2559.94</td>\n",
       "      <td>2186.4111</td>\n",
       "      <td>1698.0172</td>\n",
       "      <td>1.5102</td>\n",
       "      <td>100.0</td>\n",
       "      <td>95.4878</td>\n",
       "      <td>0.1241</td>\n",
       "      <td>1.4436</td>\n",
       "      <td>...</td>\n",
       "      <td>82.8602</td>\n",
       "      <td>0.4958</td>\n",
       "      <td>0.0157</td>\n",
       "      <td>0.0039</td>\n",
       "      <td>3.1745</td>\n",
       "      <td>0.0584</td>\n",
       "      <td>0.0484</td>\n",
       "      <td>0.0148</td>\n",
       "      <td>82.8602</td>\n",
       "      <td>1</td>\n",
       "    </tr>\n",
       "    <tr>\n",
       "      <th>3</th>\n",
       "      <td>2008-07-19 14:43:00</td>\n",
       "      <td>2988.72</td>\n",
       "      <td>2479.90</td>\n",
       "      <td>2199.0333</td>\n",
       "      <td>909.7926</td>\n",
       "      <td>1.3204</td>\n",
       "      <td>100.0</td>\n",
       "      <td>104.2367</td>\n",
       "      <td>0.1217</td>\n",
       "      <td>1.4882</td>\n",
       "      <td>...</td>\n",
       "      <td>73.8432</td>\n",
       "      <td>0.4990</td>\n",
       "      <td>0.0103</td>\n",
       "      <td>0.0025</td>\n",
       "      <td>2.0544</td>\n",
       "      <td>0.0202</td>\n",
       "      <td>0.0149</td>\n",
       "      <td>0.0044</td>\n",
       "      <td>73.8432</td>\n",
       "      <td>-1</td>\n",
       "    </tr>\n",
       "    <tr>\n",
       "      <th>4</th>\n",
       "      <td>2008-07-19 15:22:00</td>\n",
       "      <td>3032.24</td>\n",
       "      <td>2502.87</td>\n",
       "      <td>2233.3667</td>\n",
       "      <td>1326.5200</td>\n",
       "      <td>1.5334</td>\n",
       "      <td>100.0</td>\n",
       "      <td>100.3967</td>\n",
       "      <td>0.1235</td>\n",
       "      <td>1.5031</td>\n",
       "      <td>...</td>\n",
       "      <td>NaN</td>\n",
       "      <td>0.4800</td>\n",
       "      <td>0.4766</td>\n",
       "      <td>0.1045</td>\n",
       "      <td>99.3032</td>\n",
       "      <td>0.0202</td>\n",
       "      <td>0.0149</td>\n",
       "      <td>0.0044</td>\n",
       "      <td>73.8432</td>\n",
       "      <td>-1</td>\n",
       "    </tr>\n",
       "  </tbody>\n",
       "</table>\n",
       "<p>5 rows × 592 columns</p>\n",
       "</div>"
      ],
      "text/plain": [
       "                  Time        0        1          2          3       4      5  \\\n",
       "0  2008-07-19 11:55:00  3030.93  2564.00  2187.7333  1411.1265  1.3602  100.0   \n",
       "1  2008-07-19 12:32:00  3095.78  2465.14  2230.4222  1463.6606  0.8294  100.0   \n",
       "2  2008-07-19 13:17:00  2932.61  2559.94  2186.4111  1698.0172  1.5102  100.0   \n",
       "3  2008-07-19 14:43:00  2988.72  2479.90  2199.0333   909.7926  1.3204  100.0   \n",
       "4  2008-07-19 15:22:00  3032.24  2502.87  2233.3667  1326.5200  1.5334  100.0   \n",
       "\n",
       "          6       7       8  ...       581     582     583     584      585  \\\n",
       "0   97.6133  0.1242  1.5005  ...       NaN  0.5005  0.0118  0.0035   2.3630   \n",
       "1  102.3433  0.1247  1.4966  ...  208.2045  0.5019  0.0223  0.0055   4.4447   \n",
       "2   95.4878  0.1241  1.4436  ...   82.8602  0.4958  0.0157  0.0039   3.1745   \n",
       "3  104.2367  0.1217  1.4882  ...   73.8432  0.4990  0.0103  0.0025   2.0544   \n",
       "4  100.3967  0.1235  1.5031  ...       NaN  0.4800  0.4766  0.1045  99.3032   \n",
       "\n",
       "      586     587     588       589  Pass/Fail  \n",
       "0     NaN     NaN     NaN       NaN         -1  \n",
       "1  0.0096  0.0201  0.0060  208.2045         -1  \n",
       "2  0.0584  0.0484  0.0148   82.8602          1  \n",
       "3  0.0202  0.0149  0.0044   73.8432         -1  \n",
       "4  0.0202  0.0149  0.0044   73.8432         -1  \n",
       "\n",
       "[5 rows x 592 columns]"
      ]
     },
     "execution_count": 3,
     "metadata": {},
     "output_type": "execute_result"
    }
   ],
   "source": [
    "df.head()"
   ]
  },
  {
   "cell_type": "markdown",
   "id": "9345436d-49e3-41ee-8621-86127d7ac11b",
   "metadata": {},
   "source": [
    "##### This function reveals the first five rows of the dataset. By examining these rows, we can confirm that the data has been loaded correctly. We can also start to observe the contents of the columns, whether they contain numerical or categorical data, and if the data aligns with our expectations. For example, this might give us an initial idea of whether the dataset contains time series data, signals, or other types of information.\n",
    "\n"
   ]
  },
  {
   "cell_type": "markdown",
   "id": "f46c72f3-9d5a-4af8-a0a2-58e72df16009",
   "metadata": {},
   "source": [
    "### Display a concise summary of the DataFrame"
   ]
  },
  {
   "cell_type": "code",
   "execution_count": 4,
   "id": "aa7978c6-cbb9-4ad8-8222-27fd3177b199",
   "metadata": {},
   "outputs": [
    {
     "name": "stdout",
     "output_type": "stream",
     "text": [
      "<class 'pandas.core.frame.DataFrame'>\n",
      "RangeIndex: 1567 entries, 0 to 1566\n",
      "Columns: 592 entries, Time to Pass/Fail\n",
      "dtypes: float64(590), int64(1), object(1)\n",
      "memory usage: 7.1+ MB\n"
     ]
    }
   ],
   "source": [
    "df.info()\n"
   ]
  },
  {
   "cell_type": "markdown",
   "id": "f58e6687-39be-4d98-a11d-058846702370",
   "metadata": {},
   "source": [
    "### Summary statistics for numerical features"
   ]
  },
  {
   "cell_type": "code",
   "execution_count": 5,
   "id": "7b41dfe5-e346-426a-bde9-4178cdf86638",
   "metadata": {},
   "outputs": [
    {
     "data": {
      "text/html": [
       "<div>\n",
       "<style scoped>\n",
       "    .dataframe tbody tr th:only-of-type {\n",
       "        vertical-align: middle;\n",
       "    }\n",
       "\n",
       "    .dataframe tbody tr th {\n",
       "        vertical-align: top;\n",
       "    }\n",
       "\n",
       "    .dataframe thead th {\n",
       "        text-align: right;\n",
       "    }\n",
       "</style>\n",
       "<table border=\"1\" class=\"dataframe\">\n",
       "  <thead>\n",
       "    <tr style=\"text-align: right;\">\n",
       "      <th></th>\n",
       "      <th>0</th>\n",
       "      <th>1</th>\n",
       "      <th>2</th>\n",
       "      <th>3</th>\n",
       "      <th>4</th>\n",
       "      <th>5</th>\n",
       "      <th>6</th>\n",
       "      <th>7</th>\n",
       "      <th>8</th>\n",
       "      <th>9</th>\n",
       "      <th>...</th>\n",
       "      <th>581</th>\n",
       "      <th>582</th>\n",
       "      <th>583</th>\n",
       "      <th>584</th>\n",
       "      <th>585</th>\n",
       "      <th>586</th>\n",
       "      <th>587</th>\n",
       "      <th>588</th>\n",
       "      <th>589</th>\n",
       "      <th>Pass/Fail</th>\n",
       "    </tr>\n",
       "  </thead>\n",
       "  <tbody>\n",
       "    <tr>\n",
       "      <th>count</th>\n",
       "      <td>1561.000000</td>\n",
       "      <td>1560.000000</td>\n",
       "      <td>1553.000000</td>\n",
       "      <td>1553.000000</td>\n",
       "      <td>1553.000000</td>\n",
       "      <td>1553.0</td>\n",
       "      <td>1553.000000</td>\n",
       "      <td>1558.000000</td>\n",
       "      <td>1565.000000</td>\n",
       "      <td>1565.000000</td>\n",
       "      <td>...</td>\n",
       "      <td>618.000000</td>\n",
       "      <td>1566.000000</td>\n",
       "      <td>1566.000000</td>\n",
       "      <td>1566.000000</td>\n",
       "      <td>1566.000000</td>\n",
       "      <td>1566.000000</td>\n",
       "      <td>1566.000000</td>\n",
       "      <td>1566.000000</td>\n",
       "      <td>1566.000000</td>\n",
       "      <td>1567.000000</td>\n",
       "    </tr>\n",
       "    <tr>\n",
       "      <th>mean</th>\n",
       "      <td>3014.452896</td>\n",
       "      <td>2495.850231</td>\n",
       "      <td>2200.547318</td>\n",
       "      <td>1396.376627</td>\n",
       "      <td>4.197013</td>\n",
       "      <td>100.0</td>\n",
       "      <td>101.112908</td>\n",
       "      <td>0.121822</td>\n",
       "      <td>1.462862</td>\n",
       "      <td>-0.000841</td>\n",
       "      <td>...</td>\n",
       "      <td>97.934373</td>\n",
       "      <td>0.500096</td>\n",
       "      <td>0.015318</td>\n",
       "      <td>0.003847</td>\n",
       "      <td>3.067826</td>\n",
       "      <td>0.021458</td>\n",
       "      <td>0.016475</td>\n",
       "      <td>0.005283</td>\n",
       "      <td>99.670066</td>\n",
       "      <td>-0.867262</td>\n",
       "    </tr>\n",
       "    <tr>\n",
       "      <th>std</th>\n",
       "      <td>73.621787</td>\n",
       "      <td>80.407705</td>\n",
       "      <td>29.513152</td>\n",
       "      <td>441.691640</td>\n",
       "      <td>56.355540</td>\n",
       "      <td>0.0</td>\n",
       "      <td>6.237214</td>\n",
       "      <td>0.008961</td>\n",
       "      <td>0.073897</td>\n",
       "      <td>0.015116</td>\n",
       "      <td>...</td>\n",
       "      <td>87.520966</td>\n",
       "      <td>0.003404</td>\n",
       "      <td>0.017180</td>\n",
       "      <td>0.003720</td>\n",
       "      <td>3.578033</td>\n",
       "      <td>0.012358</td>\n",
       "      <td>0.008808</td>\n",
       "      <td>0.002867</td>\n",
       "      <td>93.891919</td>\n",
       "      <td>0.498010</td>\n",
       "    </tr>\n",
       "    <tr>\n",
       "      <th>min</th>\n",
       "      <td>2743.240000</td>\n",
       "      <td>2158.750000</td>\n",
       "      <td>2060.660000</td>\n",
       "      <td>0.000000</td>\n",
       "      <td>0.681500</td>\n",
       "      <td>100.0</td>\n",
       "      <td>82.131100</td>\n",
       "      <td>0.000000</td>\n",
       "      <td>1.191000</td>\n",
       "      <td>-0.053400</td>\n",
       "      <td>...</td>\n",
       "      <td>0.000000</td>\n",
       "      <td>0.477800</td>\n",
       "      <td>0.006000</td>\n",
       "      <td>0.001700</td>\n",
       "      <td>1.197500</td>\n",
       "      <td>-0.016900</td>\n",
       "      <td>0.003200</td>\n",
       "      <td>0.001000</td>\n",
       "      <td>0.000000</td>\n",
       "      <td>-1.000000</td>\n",
       "    </tr>\n",
       "    <tr>\n",
       "      <th>25%</th>\n",
       "      <td>2966.260000</td>\n",
       "      <td>2452.247500</td>\n",
       "      <td>2181.044400</td>\n",
       "      <td>1081.875800</td>\n",
       "      <td>1.017700</td>\n",
       "      <td>100.0</td>\n",
       "      <td>97.920000</td>\n",
       "      <td>0.121100</td>\n",
       "      <td>1.411200</td>\n",
       "      <td>-0.010800</td>\n",
       "      <td>...</td>\n",
       "      <td>46.184900</td>\n",
       "      <td>0.497900</td>\n",
       "      <td>0.011600</td>\n",
       "      <td>0.003100</td>\n",
       "      <td>2.306500</td>\n",
       "      <td>0.013425</td>\n",
       "      <td>0.010600</td>\n",
       "      <td>0.003300</td>\n",
       "      <td>44.368600</td>\n",
       "      <td>-1.000000</td>\n",
       "    </tr>\n",
       "    <tr>\n",
       "      <th>50%</th>\n",
       "      <td>3011.490000</td>\n",
       "      <td>2499.405000</td>\n",
       "      <td>2201.066700</td>\n",
       "      <td>1285.214400</td>\n",
       "      <td>1.316800</td>\n",
       "      <td>100.0</td>\n",
       "      <td>101.512200</td>\n",
       "      <td>0.122400</td>\n",
       "      <td>1.461600</td>\n",
       "      <td>-0.001300</td>\n",
       "      <td>...</td>\n",
       "      <td>72.288900</td>\n",
       "      <td>0.500200</td>\n",
       "      <td>0.013800</td>\n",
       "      <td>0.003600</td>\n",
       "      <td>2.757650</td>\n",
       "      <td>0.020500</td>\n",
       "      <td>0.014800</td>\n",
       "      <td>0.004600</td>\n",
       "      <td>71.900500</td>\n",
       "      <td>-1.000000</td>\n",
       "    </tr>\n",
       "    <tr>\n",
       "      <th>75%</th>\n",
       "      <td>3056.650000</td>\n",
       "      <td>2538.822500</td>\n",
       "      <td>2218.055500</td>\n",
       "      <td>1591.223500</td>\n",
       "      <td>1.525700</td>\n",
       "      <td>100.0</td>\n",
       "      <td>104.586700</td>\n",
       "      <td>0.123800</td>\n",
       "      <td>1.516900</td>\n",
       "      <td>0.008400</td>\n",
       "      <td>...</td>\n",
       "      <td>116.539150</td>\n",
       "      <td>0.502375</td>\n",
       "      <td>0.016500</td>\n",
       "      <td>0.004100</td>\n",
       "      <td>3.295175</td>\n",
       "      <td>0.027600</td>\n",
       "      <td>0.020300</td>\n",
       "      <td>0.006400</td>\n",
       "      <td>114.749700</td>\n",
       "      <td>-1.000000</td>\n",
       "    </tr>\n",
       "    <tr>\n",
       "      <th>max</th>\n",
       "      <td>3356.350000</td>\n",
       "      <td>2846.440000</td>\n",
       "      <td>2315.266700</td>\n",
       "      <td>3715.041700</td>\n",
       "      <td>1114.536600</td>\n",
       "      <td>100.0</td>\n",
       "      <td>129.252200</td>\n",
       "      <td>0.128600</td>\n",
       "      <td>1.656400</td>\n",
       "      <td>0.074900</td>\n",
       "      <td>...</td>\n",
       "      <td>737.304800</td>\n",
       "      <td>0.509800</td>\n",
       "      <td>0.476600</td>\n",
       "      <td>0.104500</td>\n",
       "      <td>99.303200</td>\n",
       "      <td>0.102800</td>\n",
       "      <td>0.079900</td>\n",
       "      <td>0.028600</td>\n",
       "      <td>737.304800</td>\n",
       "      <td>1.000000</td>\n",
       "    </tr>\n",
       "  </tbody>\n",
       "</table>\n",
       "<p>8 rows × 591 columns</p>\n",
       "</div>"
      ],
      "text/plain": [
       "                 0            1            2            3            4  \\\n",
       "count  1561.000000  1560.000000  1553.000000  1553.000000  1553.000000   \n",
       "mean   3014.452896  2495.850231  2200.547318  1396.376627     4.197013   \n",
       "std      73.621787    80.407705    29.513152   441.691640    56.355540   \n",
       "min    2743.240000  2158.750000  2060.660000     0.000000     0.681500   \n",
       "25%    2966.260000  2452.247500  2181.044400  1081.875800     1.017700   \n",
       "50%    3011.490000  2499.405000  2201.066700  1285.214400     1.316800   \n",
       "75%    3056.650000  2538.822500  2218.055500  1591.223500     1.525700   \n",
       "max    3356.350000  2846.440000  2315.266700  3715.041700  1114.536600   \n",
       "\n",
       "            5            6            7            8            9  ...  \\\n",
       "count  1553.0  1553.000000  1558.000000  1565.000000  1565.000000  ...   \n",
       "mean    100.0   101.112908     0.121822     1.462862    -0.000841  ...   \n",
       "std       0.0     6.237214     0.008961     0.073897     0.015116  ...   \n",
       "min     100.0    82.131100     0.000000     1.191000    -0.053400  ...   \n",
       "25%     100.0    97.920000     0.121100     1.411200    -0.010800  ...   \n",
       "50%     100.0   101.512200     0.122400     1.461600    -0.001300  ...   \n",
       "75%     100.0   104.586700     0.123800     1.516900     0.008400  ...   \n",
       "max     100.0   129.252200     0.128600     1.656400     0.074900  ...   \n",
       "\n",
       "              581          582          583          584          585  \\\n",
       "count  618.000000  1566.000000  1566.000000  1566.000000  1566.000000   \n",
       "mean    97.934373     0.500096     0.015318     0.003847     3.067826   \n",
       "std     87.520966     0.003404     0.017180     0.003720     3.578033   \n",
       "min      0.000000     0.477800     0.006000     0.001700     1.197500   \n",
       "25%     46.184900     0.497900     0.011600     0.003100     2.306500   \n",
       "50%     72.288900     0.500200     0.013800     0.003600     2.757650   \n",
       "75%    116.539150     0.502375     0.016500     0.004100     3.295175   \n",
       "max    737.304800     0.509800     0.476600     0.104500    99.303200   \n",
       "\n",
       "               586          587          588          589    Pass/Fail  \n",
       "count  1566.000000  1566.000000  1566.000000  1566.000000  1567.000000  \n",
       "mean      0.021458     0.016475     0.005283    99.670066    -0.867262  \n",
       "std       0.012358     0.008808     0.002867    93.891919     0.498010  \n",
       "min      -0.016900     0.003200     0.001000     0.000000    -1.000000  \n",
       "25%       0.013425     0.010600     0.003300    44.368600    -1.000000  \n",
       "50%       0.020500     0.014800     0.004600    71.900500    -1.000000  \n",
       "75%       0.027600     0.020300     0.006400   114.749700    -1.000000  \n",
       "max       0.102800     0.079900     0.028600   737.304800     1.000000  \n",
       "\n",
       "[8 rows x 591 columns]"
      ]
     },
     "execution_count": 5,
     "metadata": {},
     "output_type": "execute_result"
    }
   ],
   "source": [
    "df.describe()"
   ]
  },
  {
   "cell_type": "markdown",
   "id": "429d3581-4065-4d24-a26b-2485caba555b",
   "metadata": {},
   "source": [
    "##### The describe() function prints key statistics for all numeric columns in the dataset. Among others, these will include:\n",
    "##### Count: Number of non-null entries in each column\n",
    "##### Mean: Average value for each column\n",
    "##### Standard Deviation (std): Measures spread or dispersion of values\n",
    "##### Minimum and Maximum: Smallest and largest values in each column\n",
    "##### 25%, 50%, 75% Percentiles: The percentiles or quartiles give insight into the data distribution.\n",
    "##### Look at the statistics and look for outliers, generally in range of values and if your data is centralising around some mean value. For example, the gaps between minimum, mean, and maximum are significantly large to indicate that there may be extreme values or it is skewed."
   ]
  },
  {
   "cell_type": "markdown",
   "id": "b1797314-94ff-4452-a9af-707a79eaad25",
   "metadata": {},
   "source": [
    "### Print column names to verify"
   ]
  },
  {
   "cell_type": "code",
   "execution_count": 6,
   "id": "94eeeef8-8f19-4197-b8c2-bb5040267a89",
   "metadata": {},
   "outputs": [
    {
     "name": "stdout",
     "output_type": "stream",
     "text": [
      "Index(['Time', '0', '1', '2', '3', '4', '5', '6', '7', '8',\n",
      "       ...\n",
      "       '581', '582', '583', '584', '585', '586', '587', '588', '589',\n",
      "       'Pass/Fail'],\n",
      "      dtype='object', length=592)\n"
     ]
    }
   ],
   "source": [
    "print(df.columns)\n"
   ]
  },
  {
   "cell_type": "markdown",
   "id": "ce03debc-8e11-432a-9397-04191a972610",
   "metadata": {},
   "source": [
    "##### This would print a list of column names in the dataset. From the names, we would then make sure that all our features are so labeled and also find any columns of interest for further investigation. It also gives us an understanding of the kind of structure the dataset has or will have (for example signal types, timestamps, etc.). If the column names are not clear and are not meaningful, we may want to rename them or dig deeper.\n",
    "\n",
    "\n"
   ]
  },
  {
   "cell_type": "markdown",
   "id": "49fa5d4a-cf14-4c58-92c5-b6fc792fa99a",
   "metadata": {},
   "source": [
    "### Display the first five rows of the DataFrame"
   ]
  },
  {
   "cell_type": "code",
   "execution_count": 7,
   "id": "02069846-d7ec-479e-90e1-93ecafe40e7d",
   "metadata": {},
   "outputs": [
    {
     "name": "stdout",
     "output_type": "stream",
     "text": [
      "                  Time        0        1          2          3       4      5  \\\n",
      "0  2008-07-19 11:55:00  3030.93  2564.00  2187.7333  1411.1265  1.3602  100.0   \n",
      "1  2008-07-19 12:32:00  3095.78  2465.14  2230.4222  1463.6606  0.8294  100.0   \n",
      "2  2008-07-19 13:17:00  2932.61  2559.94  2186.4111  1698.0172  1.5102  100.0   \n",
      "3  2008-07-19 14:43:00  2988.72  2479.90  2199.0333   909.7926  1.3204  100.0   \n",
      "4  2008-07-19 15:22:00  3032.24  2502.87  2233.3667  1326.5200  1.5334  100.0   \n",
      "\n",
      "          6       7       8  ...       581     582     583     584      585  \\\n",
      "0   97.6133  0.1242  1.5005  ...       NaN  0.5005  0.0118  0.0035   2.3630   \n",
      "1  102.3433  0.1247  1.4966  ...  208.2045  0.5019  0.0223  0.0055   4.4447   \n",
      "2   95.4878  0.1241  1.4436  ...   82.8602  0.4958  0.0157  0.0039   3.1745   \n",
      "3  104.2367  0.1217  1.4882  ...   73.8432  0.4990  0.0103  0.0025   2.0544   \n",
      "4  100.3967  0.1235  1.5031  ...       NaN  0.4800  0.4766  0.1045  99.3032   \n",
      "\n",
      "      586     587     588       589  Pass/Fail  \n",
      "0     NaN     NaN     NaN       NaN         -1  \n",
      "1  0.0096  0.0201  0.0060  208.2045         -1  \n",
      "2  0.0584  0.0484  0.0148   82.8602          1  \n",
      "3  0.0202  0.0149  0.0044   73.8432         -1  \n",
      "4  0.0202  0.0149  0.0044   73.8432         -1  \n",
      "\n",
      "[5 rows x 592 columns]\n"
     ]
    }
   ],
   "source": [
    "print(df.head())\n"
   ]
  },
  {
   "cell_type": "markdown",
   "id": "40db223d-f330-44fa-9129-f5d8ad30272a",
   "metadata": {},
   "source": [
    "##### This command should print the first five rows of the dataset for a more graphical view of the data. Each row of this matrix corresponds to a sample, and each column corresponds to a feature or variable in the dataset. This view helps confirm the types of data we are dealing with, for example if they are numerical, categorical, or time-based as well as the values being plausible. For instance, you can check to see if there are any gross errors such as missing or malformed data.\n"
   ]
  },
  {
   "cell_type": "markdown",
   "id": "6e89393e-a170-4a7d-a92b-cf1139140058",
   "metadata": {},
   "source": [
    "### Remove any extra spaces in column names"
   ]
  },
  {
   "cell_type": "code",
   "execution_count": 8,
   "id": "a221e9c0-e788-4026-bbe2-d12f443de488",
   "metadata": {},
   "outputs": [
    {
     "name": "stdout",
     "output_type": "stream",
     "text": [
      "Index(['Time', '0', '1', '2', '3', '4', '5', '6', '7', '8',\n",
      "       ...\n",
      "       '581', '582', '583', '584', '585', '586', '587', '588', '589',\n",
      "       'Pass/Fail'],\n",
      "      dtype='object', length=592)\n"
     ]
    }
   ],
   "source": [
    "print(df.columns.str.strip())\n"
   ]
  },
  {
   "cell_type": "markdown",
   "id": "70177058-fb50-414b-9451-53747f0ad4d5",
   "metadata": {},
   "source": [
    "##### This statement returns the column names with any excess white spaces at the beginning or ending stripped off. The advantage of stripping whitespace is that column names are cleaned and standardized, thus preventing problems likely to be encountered due to extra space characters within column names while references to specific columns later on. If column names had been entered into the dataset out of format initially, this would clean up that problem without renaming the columns at all.\n",
    "\n",
    "\n",
    "\n",
    "\n"
   ]
  },
  {
   "cell_type": "code",
   "execution_count": 9,
   "id": "5a0e179d-3fd6-4043-a62a-bfd616191ffa",
   "metadata": {},
   "outputs": [
    {
     "name": "stdout",
     "output_type": "stream",
     "text": [
      "int64\n"
     ]
    }
   ],
   "source": [
    "print(df.index.dtype)\n"
   ]
  },
  {
   "cell_type": "markdown",
   "id": "1f8decfd-7e5c-4382-8b9d-f648a99316c6",
   "metadata": {},
   "source": [
    "##### This returns the type of index on the DataFrame; it could be an integer to describe automatically generated row numbers or datetime objects, strings, and more. Knowing the type of index helps decide whether the index needs to be set to 'datetime' for time series data or is good to go as is for further operations.\n"
   ]
  },
  {
   "cell_type": "markdown",
   "id": "498b1cce-2038-4873-bf9b-2365ef016238",
   "metadata": {},
   "source": [
    "### 2. Data cleansing:"
   ]
  },
  {
   "cell_type": "markdown",
   "id": "341dbd16-8874-480f-b067-bfce677b8103",
   "metadata": {},
   "source": [
    "### Check for missing values"
   ]
  },
  {
   "cell_type": "markdown",
   "id": "4742c4c6-79f2-4a04-a7d2-cbe4fa8af9c7",
   "metadata": {},
   "source": [
    "### Drop all missing values"
   ]
  },
  {
   "cell_type": "code",
   "execution_count": 10,
   "id": "ee7b38a0-33c8-4d93-be15-245f14ded533",
   "metadata": {},
   "outputs": [],
   "source": [
    "\n",
    "df=df.dropna(axis=1)\n"
   ]
  },
  {
   "cell_type": "code",
   "execution_count": 11,
   "id": "6d2acaf3-adc1-447f-9159-58197200228d",
   "metadata": {},
   "outputs": [
    {
     "data": {
      "text/plain": [
       "Time         0\n",
       "20           0\n",
       "86           0\n",
       "87           0\n",
       "88           0\n",
       "113          0\n",
       "114          0\n",
       "115          0\n",
       "116          0\n",
       "117          0\n",
       "119          0\n",
       "120          0\n",
       "156          0\n",
       "221          0\n",
       "222          0\n",
       "223          0\n",
       "248          0\n",
       "249          0\n",
       "250          0\n",
       "251          0\n",
       "252          0\n",
       "254          0\n",
       "255          0\n",
       "291          0\n",
       "359          0\n",
       "360          0\n",
       "361          0\n",
       "386          0\n",
       "387          0\n",
       "388          0\n",
       "389          0\n",
       "390          0\n",
       "392          0\n",
       "393          0\n",
       "429          0\n",
       "493          0\n",
       "494          0\n",
       "495          0\n",
       "520          0\n",
       "521          0\n",
       "522          0\n",
       "523          0\n",
       "524          0\n",
       "526          0\n",
       "527          0\n",
       "570          0\n",
       "571          0\n",
       "572          0\n",
       "573          0\n",
       "574          0\n",
       "575          0\n",
       "576          0\n",
       "577          0\n",
       "Pass/Fail    0\n",
       "dtype: int64"
      ]
     },
     "execution_count": 11,
     "metadata": {},
     "output_type": "execute_result"
    }
   ],
   "source": [
    "df.isnull().sum()"
   ]
  },
  {
   "cell_type": "markdown",
   "id": "3beec5f0-64c6-4a53-b896-2ab00fc4e669",
   "metadata": {},
   "source": [
    "##### Once executed, the first line drops all columns containing missing values. The second line prints out counts of missing values in the remaining columns. Ideally, we would expect all counts to be zero if our cleaning was effective. If there are still missing values, then perhaps some columns weren't scrubbed properly, or there were other problems, like the presence of rows with NaN values that need to be dealt with. The End.\n"
   ]
  },
  {
   "cell_type": "markdown",
   "id": "94bd209b-14d5-48b3-b5dd-1153de81559f",
   "metadata": {},
   "source": [
    "### Display the row of DataFrame"
   ]
  },
  {
   "cell_type": "code",
   "execution_count": 12,
   "id": "83032423-0f5e-4842-bcfa-027116a22cab",
   "metadata": {},
   "outputs": [
    {
     "data": {
      "text/html": [
       "<div>\n",
       "<style scoped>\n",
       "    .dataframe tbody tr th:only-of-type {\n",
       "        vertical-align: middle;\n",
       "    }\n",
       "\n",
       "    .dataframe tbody tr th {\n",
       "        vertical-align: top;\n",
       "    }\n",
       "\n",
       "    .dataframe thead th {\n",
       "        text-align: right;\n",
       "    }\n",
       "</style>\n",
       "<table border=\"1\" class=\"dataframe\">\n",
       "  <thead>\n",
       "    <tr style=\"text-align: right;\">\n",
       "      <th></th>\n",
       "      <th>Time</th>\n",
       "      <th>20</th>\n",
       "      <th>86</th>\n",
       "      <th>87</th>\n",
       "      <th>88</th>\n",
       "      <th>113</th>\n",
       "      <th>114</th>\n",
       "      <th>115</th>\n",
       "      <th>116</th>\n",
       "      <th>117</th>\n",
       "      <th>...</th>\n",
       "      <th>527</th>\n",
       "      <th>570</th>\n",
       "      <th>571</th>\n",
       "      <th>572</th>\n",
       "      <th>573</th>\n",
       "      <th>574</th>\n",
       "      <th>575</th>\n",
       "      <th>576</th>\n",
       "      <th>577</th>\n",
       "      <th>Pass/Fail</th>\n",
       "    </tr>\n",
       "  </thead>\n",
       "  <tbody>\n",
       "    <tr>\n",
       "      <th>0</th>\n",
       "      <td>2008-07-19 11:55:00</td>\n",
       "      <td>1.4026</td>\n",
       "      <td>2.3895</td>\n",
       "      <td>0.9690</td>\n",
       "      <td>1747.6049</td>\n",
       "      <td>0.9460</td>\n",
       "      <td>0.0</td>\n",
       "      <td>748.6115</td>\n",
       "      <td>0.9908</td>\n",
       "      <td>58.4306</td>\n",
       "      <td>...</td>\n",
       "      <td>6.6926</td>\n",
       "      <td>533.8500</td>\n",
       "      <td>2.1113</td>\n",
       "      <td>8.95</td>\n",
       "      <td>0.3157</td>\n",
       "      <td>3.0624</td>\n",
       "      <td>0.1026</td>\n",
       "      <td>1.6765</td>\n",
       "      <td>14.9509</td>\n",
       "      <td>-1</td>\n",
       "    </tr>\n",
       "    <tr>\n",
       "      <th>1</th>\n",
       "      <td>2008-07-19 12:32:00</td>\n",
       "      <td>1.3825</td>\n",
       "      <td>2.3754</td>\n",
       "      <td>0.9894</td>\n",
       "      <td>1931.6464</td>\n",
       "      <td>0.9425</td>\n",
       "      <td>0.0</td>\n",
       "      <td>731.2517</td>\n",
       "      <td>0.9902</td>\n",
       "      <td>58.6680</td>\n",
       "      <td>...</td>\n",
       "      <td>8.8370</td>\n",
       "      <td>535.0164</td>\n",
       "      <td>2.4335</td>\n",
       "      <td>5.92</td>\n",
       "      <td>0.2653</td>\n",
       "      <td>2.0111</td>\n",
       "      <td>0.0772</td>\n",
       "      <td>1.1065</td>\n",
       "      <td>10.9003</td>\n",
       "      <td>-1</td>\n",
       "    </tr>\n",
       "    <tr>\n",
       "      <th>2</th>\n",
       "      <td>2008-07-19 13:17:00</td>\n",
       "      <td>1.4123</td>\n",
       "      <td>2.4532</td>\n",
       "      <td>0.9880</td>\n",
       "      <td>1685.8514</td>\n",
       "      <td>0.9231</td>\n",
       "      <td>0.0</td>\n",
       "      <td>718.5777</td>\n",
       "      <td>0.9899</td>\n",
       "      <td>58.4808</td>\n",
       "      <td>...</td>\n",
       "      <td>6.4568</td>\n",
       "      <td>535.0245</td>\n",
       "      <td>2.0293</td>\n",
       "      <td>11.21</td>\n",
       "      <td>0.1882</td>\n",
       "      <td>4.0923</td>\n",
       "      <td>0.0640</td>\n",
       "      <td>2.0952</td>\n",
       "      <td>9.2721</td>\n",
       "      <td>1</td>\n",
       "    </tr>\n",
       "    <tr>\n",
       "      <th>3</th>\n",
       "      <td>2008-07-19 14:43:00</td>\n",
       "      <td>1.4011</td>\n",
       "      <td>2.4004</td>\n",
       "      <td>0.9904</td>\n",
       "      <td>1752.0968</td>\n",
       "      <td>0.9564</td>\n",
       "      <td>0.0</td>\n",
       "      <td>709.0867</td>\n",
       "      <td>0.9906</td>\n",
       "      <td>58.6635</td>\n",
       "      <td>...</td>\n",
       "      <td>6.4865</td>\n",
       "      <td>530.5682</td>\n",
       "      <td>2.0253</td>\n",
       "      <td>9.33</td>\n",
       "      <td>0.1738</td>\n",
       "      <td>2.8971</td>\n",
       "      <td>0.0525</td>\n",
       "      <td>1.7585</td>\n",
       "      <td>8.5831</td>\n",
       "      <td>-1</td>\n",
       "    </tr>\n",
       "    <tr>\n",
       "      <th>4</th>\n",
       "      <td>2008-07-19 15:22:00</td>\n",
       "      <td>1.3888</td>\n",
       "      <td>2.4530</td>\n",
       "      <td>0.9902</td>\n",
       "      <td>1828.3846</td>\n",
       "      <td>0.9424</td>\n",
       "      <td>0.0</td>\n",
       "      <td>796.5950</td>\n",
       "      <td>0.9908</td>\n",
       "      <td>58.3858</td>\n",
       "      <td>...</td>\n",
       "      <td>6.3745</td>\n",
       "      <td>532.0155</td>\n",
       "      <td>2.0275</td>\n",
       "      <td>8.83</td>\n",
       "      <td>0.2224</td>\n",
       "      <td>3.1776</td>\n",
       "      <td>0.0706</td>\n",
       "      <td>1.6597</td>\n",
       "      <td>10.9698</td>\n",
       "      <td>-1</td>\n",
       "    </tr>\n",
       "    <tr>\n",
       "      <th>...</th>\n",
       "      <td>...</td>\n",
       "      <td>...</td>\n",
       "      <td>...</td>\n",
       "      <td>...</td>\n",
       "      <td>...</td>\n",
       "      <td>...</td>\n",
       "      <td>...</td>\n",
       "      <td>...</td>\n",
       "      <td>...</td>\n",
       "      <td>...</td>\n",
       "      <td>...</td>\n",
       "      <td>...</td>\n",
       "      <td>...</td>\n",
       "      <td>...</td>\n",
       "      <td>...</td>\n",
       "      <td>...</td>\n",
       "      <td>...</td>\n",
       "      <td>...</td>\n",
       "      <td>...</td>\n",
       "      <td>...</td>\n",
       "      <td>...</td>\n",
       "    </tr>\n",
       "    <tr>\n",
       "      <th>1562</th>\n",
       "      <td>2008-10-16 15:13:00</td>\n",
       "      <td>1.4072</td>\n",
       "      <td>2.3762</td>\n",
       "      <td>0.9861</td>\n",
       "      <td>1869.4215</td>\n",
       "      <td>0.9520</td>\n",
       "      <td>0.0</td>\n",
       "      <td>727.6761</td>\n",
       "      <td>0.9894</td>\n",
       "      <td>58.3514</td>\n",
       "      <td>...</td>\n",
       "      <td>2.6649</td>\n",
       "      <td>536.3418</td>\n",
       "      <td>2.0153</td>\n",
       "      <td>7.98</td>\n",
       "      <td>0.2363</td>\n",
       "      <td>2.6401</td>\n",
       "      <td>0.0785</td>\n",
       "      <td>1.4879</td>\n",
       "      <td>11.7256</td>\n",
       "      <td>-1</td>\n",
       "    </tr>\n",
       "    <tr>\n",
       "      <th>1563</th>\n",
       "      <td>2008-10-16 20:49:00</td>\n",
       "      <td>1.3949</td>\n",
       "      <td>2.4880</td>\n",
       "      <td>0.9911</td>\n",
       "      <td>1872.5133</td>\n",
       "      <td>0.9561</td>\n",
       "      <td>0.0</td>\n",
       "      <td>755.7527</td>\n",
       "      <td>0.9899</td>\n",
       "      <td>57.1020</td>\n",
       "      <td>...</td>\n",
       "      <td>6.0192</td>\n",
       "      <td>537.9264</td>\n",
       "      <td>2.1814</td>\n",
       "      <td>5.48</td>\n",
       "      <td>0.3891</td>\n",
       "      <td>1.9077</td>\n",
       "      <td>0.1213</td>\n",
       "      <td>1.0187</td>\n",
       "      <td>17.8379</td>\n",
       "      <td>-1</td>\n",
       "    </tr>\n",
       "    <tr>\n",
       "      <th>1564</th>\n",
       "      <td>2008-10-17 05:26:00</td>\n",
       "      <td>1.4256</td>\n",
       "      <td>2.4590</td>\n",
       "      <td>0.9869</td>\n",
       "      <td>1820.3629</td>\n",
       "      <td>0.9488</td>\n",
       "      <td>0.0</td>\n",
       "      <td>704.2686</td>\n",
       "      <td>0.9891</td>\n",
       "      <td>59.2046</td>\n",
       "      <td>...</td>\n",
       "      <td>5.4641</td>\n",
       "      <td>530.3709</td>\n",
       "      <td>2.3435</td>\n",
       "      <td>6.49</td>\n",
       "      <td>0.4154</td>\n",
       "      <td>2.1760</td>\n",
       "      <td>0.1352</td>\n",
       "      <td>1.2237</td>\n",
       "      <td>17.7267</td>\n",
       "      <td>-1</td>\n",
       "    </tr>\n",
       "    <tr>\n",
       "      <th>1565</th>\n",
       "      <td>2008-10-17 06:01:00</td>\n",
       "      <td>1.3868</td>\n",
       "      <td>2.3600</td>\n",
       "      <td>0.9796</td>\n",
       "      <td>1627.4714</td>\n",
       "      <td>0.9485</td>\n",
       "      <td>0.0</td>\n",
       "      <td>605.6190</td>\n",
       "      <td>0.9896</td>\n",
       "      <td>58.2686</td>\n",
       "      <td>...</td>\n",
       "      <td>6.5512</td>\n",
       "      <td>534.3936</td>\n",
       "      <td>1.9098</td>\n",
       "      <td>9.13</td>\n",
       "      <td>0.3669</td>\n",
       "      <td>3.2524</td>\n",
       "      <td>0.1040</td>\n",
       "      <td>1.7085</td>\n",
       "      <td>19.2104</td>\n",
       "      <td>-1</td>\n",
       "    </tr>\n",
       "    <tr>\n",
       "      <th>1566</th>\n",
       "      <td>2008-10-17 06:07:00</td>\n",
       "      <td>1.4048</td>\n",
       "      <td>2.3701</td>\n",
       "      <td>0.9758</td>\n",
       "      <td>1759.9908</td>\n",
       "      <td>0.9432</td>\n",
       "      <td>0.0</td>\n",
       "      <td>683.5622</td>\n",
       "      <td>0.9893</td>\n",
       "      <td>59.8578</td>\n",
       "      <td>...</td>\n",
       "      <td>4.1651</td>\n",
       "      <td>528.7918</td>\n",
       "      <td>2.0831</td>\n",
       "      <td>6.81</td>\n",
       "      <td>0.4774</td>\n",
       "      <td>2.2727</td>\n",
       "      <td>0.1495</td>\n",
       "      <td>1.2878</td>\n",
       "      <td>22.9183</td>\n",
       "      <td>-1</td>\n",
       "    </tr>\n",
       "  </tbody>\n",
       "</table>\n",
       "<p>1567 rows × 54 columns</p>\n",
       "</div>"
      ],
      "text/plain": [
       "                     Time      20      86      87         88     113  114  \\\n",
       "0     2008-07-19 11:55:00  1.4026  2.3895  0.9690  1747.6049  0.9460  0.0   \n",
       "1     2008-07-19 12:32:00  1.3825  2.3754  0.9894  1931.6464  0.9425  0.0   \n",
       "2     2008-07-19 13:17:00  1.4123  2.4532  0.9880  1685.8514  0.9231  0.0   \n",
       "3     2008-07-19 14:43:00  1.4011  2.4004  0.9904  1752.0968  0.9564  0.0   \n",
       "4     2008-07-19 15:22:00  1.3888  2.4530  0.9902  1828.3846  0.9424  0.0   \n",
       "...                   ...     ...     ...     ...        ...     ...  ...   \n",
       "1562  2008-10-16 15:13:00  1.4072  2.3762  0.9861  1869.4215  0.9520  0.0   \n",
       "1563  2008-10-16 20:49:00  1.3949  2.4880  0.9911  1872.5133  0.9561  0.0   \n",
       "1564  2008-10-17 05:26:00  1.4256  2.4590  0.9869  1820.3629  0.9488  0.0   \n",
       "1565  2008-10-17 06:01:00  1.3868  2.3600  0.9796  1627.4714  0.9485  0.0   \n",
       "1566  2008-10-17 06:07:00  1.4048  2.3701  0.9758  1759.9908  0.9432  0.0   \n",
       "\n",
       "           115     116      117  ...     527       570     571    572     573  \\\n",
       "0     748.6115  0.9908  58.4306  ...  6.6926  533.8500  2.1113   8.95  0.3157   \n",
       "1     731.2517  0.9902  58.6680  ...  8.8370  535.0164  2.4335   5.92  0.2653   \n",
       "2     718.5777  0.9899  58.4808  ...  6.4568  535.0245  2.0293  11.21  0.1882   \n",
       "3     709.0867  0.9906  58.6635  ...  6.4865  530.5682  2.0253   9.33  0.1738   \n",
       "4     796.5950  0.9908  58.3858  ...  6.3745  532.0155  2.0275   8.83  0.2224   \n",
       "...        ...     ...      ...  ...     ...       ...     ...    ...     ...   \n",
       "1562  727.6761  0.9894  58.3514  ...  2.6649  536.3418  2.0153   7.98  0.2363   \n",
       "1563  755.7527  0.9899  57.1020  ...  6.0192  537.9264  2.1814   5.48  0.3891   \n",
       "1564  704.2686  0.9891  59.2046  ...  5.4641  530.3709  2.3435   6.49  0.4154   \n",
       "1565  605.6190  0.9896  58.2686  ...  6.5512  534.3936  1.9098   9.13  0.3669   \n",
       "1566  683.5622  0.9893  59.8578  ...  4.1651  528.7918  2.0831   6.81  0.4774   \n",
       "\n",
       "         574     575     576      577  Pass/Fail  \n",
       "0     3.0624  0.1026  1.6765  14.9509         -1  \n",
       "1     2.0111  0.0772  1.1065  10.9003         -1  \n",
       "2     4.0923  0.0640  2.0952   9.2721          1  \n",
       "3     2.8971  0.0525  1.7585   8.5831         -1  \n",
       "4     3.1776  0.0706  1.6597  10.9698         -1  \n",
       "...      ...     ...     ...      ...        ...  \n",
       "1562  2.6401  0.0785  1.4879  11.7256         -1  \n",
       "1563  1.9077  0.1213  1.0187  17.8379         -1  \n",
       "1564  2.1760  0.1352  1.2237  17.7267         -1  \n",
       "1565  3.2524  0.1040  1.7085  19.2104         -1  \n",
       "1566  2.2727  0.1495  1.2878  22.9183         -1  \n",
       "\n",
       "[1567 rows x 54 columns]"
      ]
     },
     "execution_count": 12,
     "metadata": {},
     "output_type": "execute_result"
    }
   ],
   "source": [
    "df"
   ]
  },
  {
   "cell_type": "markdown",
   "id": "9ff05ad4-a723-4d94-817b-b3837af42bdf",
   "metadata": {},
   "source": [
    "##### This line of code will print out the cleaned DataFrame, with any rows that contain missing values removed and only the columns that do not possess any missing values visible. Based upon the output shown by this last line of code, we are actually able to see whether the DataFrame has been cleaned and whether or not the remaining columns have enough information to warrant continued analysis. It also at this point enable us to understand how our data structure will be going forward and ensure that meaningful features haven't been lost.\n",
    "\n",
    "\n"
   ]
  },
  {
   "cell_type": "markdown",
   "id": "b35851be-bb81-47ab-9fda-5a4c680f3520",
   "metadata": {},
   "source": [
    "### 3. Data Analysis & Visualization"
   ]
  },
  {
   "cell_type": "code",
   "execution_count": 13,
   "id": "f04e994d-f25b-402f-9201-6682d8fd8612",
   "metadata": {},
   "outputs": [
    {
     "data": {
      "image/png": "[encoded data removed]",
      "text/plain": [
       "<Figure size 1500x1000 with 56 Axes>"
      ]
     },
     "metadata": {},
     "output_type": "display_data"
    }
   ],
   "source": [
    "# Plot histograms for features\n",
    "df.hist(figsize=(15, 10), bins=50)\n",
    "plt.show()\n"
   ]
  },
  {
   "cell_type": "markdown",
   "id": "f846146d-754c-4369-9fc5-6a745e7b31f6",
   "metadata": {},
   "source": [
    "##### This will produce histograms for each numerical variable in the DataFrame. These histograms represent how the data points are distributed. From the histograms, we can identify which are close to normal, skewed, and uniform, and even identify outliers. We can also evaluate the range of the values for a feature. The size of the figure and number of bins allows for an easy-to-understand viewable representation of data distributions.\n",
    "\n",
    "\n",
    "\n"
   ]
  },
  {
   "cell_type": "code",
   "execution_count": 14,
   "id": "7aeb3169-981f-48d7-b9ef-7fdea683c8e9",
   "metadata": {},
   "outputs": [],
   "source": [
    "df=df.drop(columns=['Time'])"
   ]
  },
  {
   "cell_type": "markdown",
   "id": "1852639d-8565-4ae6-8ca7-157c89407474",
   "metadata": {},
   "source": [
    "##### This line drops the 'Time' column from the DataFrame. After running this line, the DataFrame is updated to no longer contain that column. Make sure this is appropriate to drop that column for your analysis. If 'Time' is a feature particularly useful for your analysis-for example, in the case of time series-the column should not be dropped. The current DataFrame only contains features interesting for planned analyses.\n",
    "\n",
    "\n",
    "\n",
    "\n"
   ]
  },
  {
   "cell_type": "code",
   "execution_count": 15,
   "id": "5ae2e029-50e4-4453-a8fe-44a25bbf4bd3",
   "metadata": {},
   "outputs": [],
   "source": [
    "# # Correlation matrix\n",
    "# plt.figure(figsize=(20, 20))\n",
    "# sns.heatmap(df.corr(), annot=True, fmt='.2f')\n",
    "# plt.show()\n",
    "\n",
    "\n",
    "\n"
   ]
  },
  {
   "cell_type": "markdown",
   "id": "8da06a7d-36f0-41db-a530-7bcd8d903324",
   "metadata": {},
   "source": [
    "### 4. Data Pre-processing"
   ]
  },
  {
   "cell_type": "code",
   "execution_count": 16,
   "id": "abf52d47-7eba-4569-889d-6175fe80a0f3",
   "metadata": {},
   "outputs": [],
   "source": [
    "x = df.drop(columns=['Pass/Fail'])\n",
    "y = df['Pass/Fail']\n"
   ]
  },
  {
   "cell_type": "code",
   "execution_count": 17,
   "id": "4e655cd0-732c-48a9-8959-fa3bbb740e88",
   "metadata": {},
   "outputs": [
    {
     "data": {
      "text/html": [
       "<div>\n",
       "<style scoped>\n",
       "    .dataframe tbody tr th:only-of-type {\n",
       "        vertical-align: middle;\n",
       "    }\n",
       "\n",
       "    .dataframe tbody tr th {\n",
       "        vertical-align: top;\n",
       "    }\n",
       "\n",
       "    .dataframe thead th {\n",
       "        text-align: right;\n",
       "    }\n",
       "</style>\n",
       "<table border=\"1\" class=\"dataframe\">\n",
       "  <thead>\n",
       "    <tr style=\"text-align: right;\">\n",
       "      <th></th>\n",
       "      <th>20</th>\n",
       "      <th>86</th>\n",
       "      <th>87</th>\n",
       "      <th>88</th>\n",
       "      <th>113</th>\n",
       "      <th>114</th>\n",
       "      <th>115</th>\n",
       "      <th>116</th>\n",
       "      <th>117</th>\n",
       "      <th>119</th>\n",
       "      <th>...</th>\n",
       "      <th>526</th>\n",
       "      <th>527</th>\n",
       "      <th>570</th>\n",
       "      <th>571</th>\n",
       "      <th>572</th>\n",
       "      <th>573</th>\n",
       "      <th>574</th>\n",
       "      <th>575</th>\n",
       "      <th>576</th>\n",
       "      <th>577</th>\n",
       "    </tr>\n",
       "  </thead>\n",
       "  <tbody>\n",
       "    <tr>\n",
       "      <th>0</th>\n",
       "      <td>1.4026</td>\n",
       "      <td>2.3895</td>\n",
       "      <td>0.9690</td>\n",
       "      <td>1747.6049</td>\n",
       "      <td>0.9460</td>\n",
       "      <td>0.0</td>\n",
       "      <td>748.6115</td>\n",
       "      <td>0.9908</td>\n",
       "      <td>58.4306</td>\n",
       "      <td>0.9804</td>\n",
       "      <td>...</td>\n",
       "      <td>0.5064</td>\n",
       "      <td>6.6926</td>\n",
       "      <td>533.8500</td>\n",
       "      <td>2.1113</td>\n",
       "      <td>8.95</td>\n",
       "      <td>0.3157</td>\n",
       "      <td>3.0624</td>\n",
       "      <td>0.1026</td>\n",
       "      <td>1.6765</td>\n",
       "      <td>14.9509</td>\n",
       "    </tr>\n",
       "    <tr>\n",
       "      <th>1</th>\n",
       "      <td>1.3825</td>\n",
       "      <td>2.3754</td>\n",
       "      <td>0.9894</td>\n",
       "      <td>1931.6464</td>\n",
       "      <td>0.9425</td>\n",
       "      <td>0.0</td>\n",
       "      <td>731.2517</td>\n",
       "      <td>0.9902</td>\n",
       "      <td>58.6680</td>\n",
       "      <td>0.9731</td>\n",
       "      <td>...</td>\n",
       "      <td>0.8832</td>\n",
       "      <td>8.8370</td>\n",
       "      <td>535.0164</td>\n",
       "      <td>2.4335</td>\n",
       "      <td>5.92</td>\n",
       "      <td>0.2653</td>\n",
       "      <td>2.0111</td>\n",
       "      <td>0.0772</td>\n",
       "      <td>1.1065</td>\n",
       "      <td>10.9003</td>\n",
       "    </tr>\n",
       "    <tr>\n",
       "      <th>2</th>\n",
       "      <td>1.4123</td>\n",
       "      <td>2.4532</td>\n",
       "      <td>0.9880</td>\n",
       "      <td>1685.8514</td>\n",
       "      <td>0.9231</td>\n",
       "      <td>0.0</td>\n",
       "      <td>718.5777</td>\n",
       "      <td>0.9899</td>\n",
       "      <td>58.4808</td>\n",
       "      <td>0.9772</td>\n",
       "      <td>...</td>\n",
       "      <td>0.6451</td>\n",
       "      <td>6.4568</td>\n",
       "      <td>535.0245</td>\n",
       "      <td>2.0293</td>\n",
       "      <td>11.21</td>\n",
       "      <td>0.1882</td>\n",
       "      <td>4.0923</td>\n",
       "      <td>0.0640</td>\n",
       "      <td>2.0952</td>\n",
       "      <td>9.2721</td>\n",
       "    </tr>\n",
       "    <tr>\n",
       "      <th>3</th>\n",
       "      <td>1.4011</td>\n",
       "      <td>2.4004</td>\n",
       "      <td>0.9904</td>\n",
       "      <td>1752.0968</td>\n",
       "      <td>0.9564</td>\n",
       "      <td>0.0</td>\n",
       "      <td>709.0867</td>\n",
       "      <td>0.9906</td>\n",
       "      <td>58.6635</td>\n",
       "      <td>0.9761</td>\n",
       "      <td>...</td>\n",
       "      <td>0.7404</td>\n",
       "      <td>6.4865</td>\n",
       "      <td>530.5682</td>\n",
       "      <td>2.0253</td>\n",
       "      <td>9.33</td>\n",
       "      <td>0.1738</td>\n",
       "      <td>2.8971</td>\n",
       "      <td>0.0525</td>\n",
       "      <td>1.7585</td>\n",
       "      <td>8.5831</td>\n",
       "    </tr>\n",
       "    <tr>\n",
       "      <th>4</th>\n",
       "      <td>1.3888</td>\n",
       "      <td>2.4530</td>\n",
       "      <td>0.9902</td>\n",
       "      <td>1828.3846</td>\n",
       "      <td>0.9424</td>\n",
       "      <td>0.0</td>\n",
       "      <td>796.5950</td>\n",
       "      <td>0.9908</td>\n",
       "      <td>58.3858</td>\n",
       "      <td>0.9628</td>\n",
       "      <td>...</td>\n",
       "      <td>2.2181</td>\n",
       "      <td>6.3745</td>\n",
       "      <td>532.0155</td>\n",
       "      <td>2.0275</td>\n",
       "      <td>8.83</td>\n",
       "      <td>0.2224</td>\n",
       "      <td>3.1776</td>\n",
       "      <td>0.0706</td>\n",
       "      <td>1.6597</td>\n",
       "      <td>10.9698</td>\n",
       "    </tr>\n",
       "    <tr>\n",
       "      <th>...</th>\n",
       "      <td>...</td>\n",
       "      <td>...</td>\n",
       "      <td>...</td>\n",
       "      <td>...</td>\n",
       "      <td>...</td>\n",
       "      <td>...</td>\n",
       "      <td>...</td>\n",
       "      <td>...</td>\n",
       "      <td>...</td>\n",
       "      <td>...</td>\n",
       "      <td>...</td>\n",
       "      <td>...</td>\n",
       "      <td>...</td>\n",
       "      <td>...</td>\n",
       "      <td>...</td>\n",
       "      <td>...</td>\n",
       "      <td>...</td>\n",
       "      <td>...</td>\n",
       "      <td>...</td>\n",
       "      <td>...</td>\n",
       "      <td>...</td>\n",
       "    </tr>\n",
       "    <tr>\n",
       "      <th>1562</th>\n",
       "      <td>1.4072</td>\n",
       "      <td>2.3762</td>\n",
       "      <td>0.9861</td>\n",
       "      <td>1869.4215</td>\n",
       "      <td>0.9520</td>\n",
       "      <td>0.0</td>\n",
       "      <td>727.6761</td>\n",
       "      <td>0.9894</td>\n",
       "      <td>58.3514</td>\n",
       "      <td>0.9636</td>\n",
       "      <td>...</td>\n",
       "      <td>1.2587</td>\n",
       "      <td>2.6649</td>\n",
       "      <td>536.3418</td>\n",
       "      <td>2.0153</td>\n",
       "      <td>7.98</td>\n",
       "      <td>0.2363</td>\n",
       "      <td>2.6401</td>\n",
       "      <td>0.0785</td>\n",
       "      <td>1.4879</td>\n",
       "      <td>11.7256</td>\n",
       "    </tr>\n",
       "    <tr>\n",
       "      <th>1563</th>\n",
       "      <td>1.3949</td>\n",
       "      <td>2.4880</td>\n",
       "      <td>0.9911</td>\n",
       "      <td>1872.5133</td>\n",
       "      <td>0.9561</td>\n",
       "      <td>0.0</td>\n",
       "      <td>755.7527</td>\n",
       "      <td>0.9899</td>\n",
       "      <td>57.1020</td>\n",
       "      <td>0.9806</td>\n",
       "      <td>...</td>\n",
       "      <td>0.4512</td>\n",
       "      <td>6.0192</td>\n",
       "      <td>537.9264</td>\n",
       "      <td>2.1814</td>\n",
       "      <td>5.48</td>\n",
       "      <td>0.3891</td>\n",
       "      <td>1.9077</td>\n",
       "      <td>0.1213</td>\n",
       "      <td>1.0187</td>\n",
       "      <td>17.8379</td>\n",
       "    </tr>\n",
       "    <tr>\n",
       "      <th>1564</th>\n",
       "      <td>1.4256</td>\n",
       "      <td>2.4590</td>\n",
       "      <td>0.9869</td>\n",
       "      <td>1820.3629</td>\n",
       "      <td>0.9488</td>\n",
       "      <td>0.0</td>\n",
       "      <td>704.2686</td>\n",
       "      <td>0.9891</td>\n",
       "      <td>59.2046</td>\n",
       "      <td>0.9767</td>\n",
       "      <td>...</td>\n",
       "      <td>0.4867</td>\n",
       "      <td>5.4641</td>\n",
       "      <td>530.3709</td>\n",
       "      <td>2.3435</td>\n",
       "      <td>6.49</td>\n",
       "      <td>0.4154</td>\n",
       "      <td>2.1760</td>\n",
       "      <td>0.1352</td>\n",
       "      <td>1.2237</td>\n",
       "      <td>17.7267</td>\n",
       "    </tr>\n",
       "    <tr>\n",
       "      <th>1565</th>\n",
       "      <td>1.3868</td>\n",
       "      <td>2.3600</td>\n",
       "      <td>0.9796</td>\n",
       "      <td>1627.4714</td>\n",
       "      <td>0.9485</td>\n",
       "      <td>0.0</td>\n",
       "      <td>605.6190</td>\n",
       "      <td>0.9896</td>\n",
       "      <td>58.2686</td>\n",
       "      <td>0.9805</td>\n",
       "      <td>...</td>\n",
       "      <td>0.3866</td>\n",
       "      <td>6.5512</td>\n",
       "      <td>534.3936</td>\n",
       "      <td>1.9098</td>\n",
       "      <td>9.13</td>\n",
       "      <td>0.3669</td>\n",
       "      <td>3.2524</td>\n",
       "      <td>0.1040</td>\n",
       "      <td>1.7085</td>\n",
       "      <td>19.2104</td>\n",
       "    </tr>\n",
       "    <tr>\n",
       "      <th>1566</th>\n",
       "      <td>1.4048</td>\n",
       "      <td>2.3701</td>\n",
       "      <td>0.9758</td>\n",
       "      <td>1759.9908</td>\n",
       "      <td>0.9432</td>\n",
       "      <td>0.0</td>\n",
       "      <td>683.5622</td>\n",
       "      <td>0.9893</td>\n",
       "      <td>59.8578</td>\n",
       "      <td>0.9636</td>\n",
       "      <td>...</td>\n",
       "      <td>1.5629</td>\n",
       "      <td>4.1651</td>\n",
       "      <td>528.7918</td>\n",
       "      <td>2.0831</td>\n",
       "      <td>6.81</td>\n",
       "      <td>0.4774</td>\n",
       "      <td>2.2727</td>\n",
       "      <td>0.1495</td>\n",
       "      <td>1.2878</td>\n",
       "      <td>22.9183</td>\n",
       "    </tr>\n",
       "  </tbody>\n",
       "</table>\n",
       "<p>1567 rows × 52 columns</p>\n",
       "</div>"
      ],
      "text/plain": [
       "          20      86      87         88     113  114       115     116  \\\n",
       "0     1.4026  2.3895  0.9690  1747.6049  0.9460  0.0  748.6115  0.9908   \n",
       "1     1.3825  2.3754  0.9894  1931.6464  0.9425  0.0  731.2517  0.9902   \n",
       "2     1.4123  2.4532  0.9880  1685.8514  0.9231  0.0  718.5777  0.9899   \n",
       "3     1.4011  2.4004  0.9904  1752.0968  0.9564  0.0  709.0867  0.9906   \n",
       "4     1.3888  2.4530  0.9902  1828.3846  0.9424  0.0  796.5950  0.9908   \n",
       "...      ...     ...     ...        ...     ...  ...       ...     ...   \n",
       "1562  1.4072  2.3762  0.9861  1869.4215  0.9520  0.0  727.6761  0.9894   \n",
       "1563  1.3949  2.4880  0.9911  1872.5133  0.9561  0.0  755.7527  0.9899   \n",
       "1564  1.4256  2.4590  0.9869  1820.3629  0.9488  0.0  704.2686  0.9891   \n",
       "1565  1.3868  2.3600  0.9796  1627.4714  0.9485  0.0  605.6190  0.9896   \n",
       "1566  1.4048  2.3701  0.9758  1759.9908  0.9432  0.0  683.5622  0.9893   \n",
       "\n",
       "          117     119  ...     526     527       570     571    572     573  \\\n",
       "0     58.4306  0.9804  ...  0.5064  6.6926  533.8500  2.1113   8.95  0.3157   \n",
       "1     58.6680  0.9731  ...  0.8832  8.8370  535.0164  2.4335   5.92  0.2653   \n",
       "2     58.4808  0.9772  ...  0.6451  6.4568  535.0245  2.0293  11.21  0.1882   \n",
       "3     58.6635  0.9761  ...  0.7404  6.4865  530.5682  2.0253   9.33  0.1738   \n",
       "4     58.3858  0.9628  ...  2.2181  6.3745  532.0155  2.0275   8.83  0.2224   \n",
       "...       ...     ...  ...     ...     ...       ...     ...    ...     ...   \n",
       "1562  58.3514  0.9636  ...  1.2587  2.6649  536.3418  2.0153   7.98  0.2363   \n",
       "1563  57.1020  0.9806  ...  0.4512  6.0192  537.9264  2.1814   5.48  0.3891   \n",
       "1564  59.2046  0.9767  ...  0.4867  5.4641  530.3709  2.3435   6.49  0.4154   \n",
       "1565  58.2686  0.9805  ...  0.3866  6.5512  534.3936  1.9098   9.13  0.3669   \n",
       "1566  59.8578  0.9636  ...  1.5629  4.1651  528.7918  2.0831   6.81  0.4774   \n",
       "\n",
       "         574     575     576      577  \n",
       "0     3.0624  0.1026  1.6765  14.9509  \n",
       "1     2.0111  0.0772  1.1065  10.9003  \n",
       "2     4.0923  0.0640  2.0952   9.2721  \n",
       "3     2.8971  0.0525  1.7585   8.5831  \n",
       "4     3.1776  0.0706  1.6597  10.9698  \n",
       "...      ...     ...     ...      ...  \n",
       "1562  2.6401  0.0785  1.4879  11.7256  \n",
       "1563  1.9077  0.1213  1.0187  17.8379  \n",
       "1564  2.1760  0.1352  1.2237  17.7267  \n",
       "1565  3.2524  0.1040  1.7085  19.2104  \n",
       "1566  2.2727  0.1495  1.2878  22.9183  \n",
       "\n",
       "[1567 rows x 52 columns]"
      ]
     },
     "execution_count": 17,
     "metadata": {},
     "output_type": "execute_result"
    }
   ],
   "source": [
    "x"
   ]
  },
  {
   "cell_type": "markdown",
   "id": "cce276d6-8053-42d5-91df-c7cda8b32496",
   "metadata": {},
   "source": [
    "##### This command outputs the DataFrame x, which includes all the features from the original dataset that are relevant for analysis. By inspecting this DataFrame, we can confirm that the intended features are correctly included, ensuring that we have all necessary information for model training or further analysis. This view also allows us to evaluate the data types and distributions of the features before proceeding to model development or any other analysis.\n",
    "\n"
   ]
  },
  {
   "cell_type": "markdown",
   "id": "ad0fff0d-923d-4138-a872-ee428e0deddc",
   "metadata": {},
   "source": [
    "#### Train-Test Split"
   ]
  },
  {
   "cell_type": "code",
   "execution_count": 18,
   "id": "99616b29-6430-4726-9ae1-68f9c6a8ce27",
   "metadata": {},
   "outputs": [],
   "source": [
    "from sklearn.model_selection import train_test_split\n",
    "\n",
    "\n"
   ]
  },
  {
   "cell_type": "code",
   "execution_count": 19,
   "id": "f1612b20-7d82-431b-bcbf-338030a867be",
   "metadata": {},
   "outputs": [],
   "source": [
    "X_train, X_test, y_train, y_test = train_test_split(x,y,test_size=0.2,random_state=42)"
   ]
  },
  {
   "cell_type": "markdown",
   "id": "2d3c4ae0-9354-40bd-b38f-b1ddbe7d0fba",
   "metadata": {},
   "source": [
    "##### After running the code, the data sets are divided into four: X_train and y_train to train the model and X_test and y_test to test the performance of the model. The training set has 80 percent, while the testing set is composed of 20 percent. This split is very essential in determining the capability of the model to generalize in unknown data. The training set is used for fitting the model, then the test is held aside for evaluation purposes.\n",
    "\n",
    "\n"
   ]
  },
  {
   "cell_type": "markdown",
   "id": "e28f745e-4427-4233-919f-d44ee9397ceb",
   "metadata": {},
   "source": [
    "#### Standardization\n"
   ]
  },
  {
   "cell_type": "code",
   "execution_count": 20,
   "id": "5a7a6e81-357d-41bc-95f1-717ab8f9e30f",
   "metadata": {},
   "outputs": [],
   "source": [
    "from sklearn.preprocessing import StandardScaler\n",
    "\n",
    "scaler = StandardScaler()\n",
    "X_train = scaler.fit_transform(X_train)\n",
    "X_test = scaler.transform(X_test)\n"
   ]
  },
  {
   "cell_type": "markdown",
   "id": "b6bf2d2a-2926-4e16-acc6-722bb1ab5a7f",
   "metadata": {},
   "source": [
    "##### After executing this code, both X_train and X_test are standardized so that each feature has a mean of 0 and a standard deviation of 1. This transformation helps improve the convergence speed of many machine learning algorithms and ensures that each feature contributes equally to the distance calculations used in algorithms like k-nearest neighbors and support vector machines. By applying the same transformation to both the training and testing datasets, we ensure that the model is evaluated fairly.\n",
    "\n"
   ]
  },
  {
   "cell_type": "markdown",
   "id": "3213ced9-f5ef-436e-b82f-8933201e876f",
   "metadata": {},
   "source": [
    "### 5: Model Training, Testing, and Tuning"
   ]
  },
  {
   "cell_type": "markdown",
   "id": "605a36cd-79fd-40b7-bbcb-36a5cf7d6834",
   "metadata": {},
   "source": [
    "#### Model Training"
   ]
  },
  {
   "cell_type": "markdown",
   "id": "909b3995-66a3-4d20-8215-2519b976a2cd",
   "metadata": {},
   "source": [
    "##### Train and evaluate multiple models:"
   ]
  },
  {
   "cell_type": "code",
   "execution_count": 21,
   "id": "105ffa70-21cc-4cf7-8e77-c2d600bdb2fb",
   "metadata": {},
   "outputs": [],
   "source": [
    "from sklearn.ensemble import RandomForestClassifier\n",
    "from sklearn.svm import SVC\n",
    "from sklearn.naive_bayes import GaussianNB\n",
    "from sklearn.metrics import classification_report, accuracy_score\n",
    "from sklearn.model_selection import GridSearchCV\n",
    "\n",
    "# Random Forest\n",
    "rf = RandomForestClassifier()\n",
    "rf.fit(X_train, y_train)\n",
    "rf_predictions = rf.predict(X_test)\n",
    "\n",
    "# SVM\n",
    "svm = SVC()\n",
    "svm.fit(X_train, y_train)\n",
    "svm_predictions = svm.predict(X_test)\n",
    "\n",
    "# Naive Bayes\n",
    "nb = GaussianNB()\n",
    "nb.fit(X_train, y_train)\n",
    "nb_predictions = nb.predict(X_test)\n"
   ]
  },
  {
   "cell_type": "markdown",
   "id": "05d3ebd9-b04c-4ec8-8187-22bd40bbcbf9",
   "metadata": {},
   "source": [
    "##### These three varied machine learning classifiers execute from the code to train on training data and make predictions on test data.\n",
    "\n",
    "##### Classifier\n",
    "##### Random Forest Classifier This is an impressive model that combines multiple decision trees for making prediction.\n",
    "##### Support Vector Machine (SVM): Strong model that is effective in classification but in most such tasks has been found to work well in high-dimensional space.\n",
    "##### Naive Bayes Classifier A probabilistic model based on the Bayes theorem under an independent feature assumption.\n",
    "##### Now, each classifier makes its predictions based on standardized test dataset. At this stage, you should have used typically accuracy, precision, recall, and the F1 score to decide which was the best classifier.\n",
    "\n",
    "\n"
   ]
  },
  {
   "cell_type": "markdown",
   "id": "0bd0d240-418e-4266-b522-3447f1fd1a7c",
   "metadata": {},
   "source": [
    "### Compare Models"
   ]
  },
  {
   "cell_type": "markdown",
   "id": "dc1e2049-2565-4def-9d2a-377d4c52bd51",
   "metadata": {},
   "source": [
    "#### Compare the performance of different models:"
   ]
  },
  {
   "cell_type": "code",
   "execution_count": 22,
   "id": "52bf6029-2a7a-4f19-8fe4-23ffbbce0a2b",
   "metadata": {},
   "outputs": [
    {
     "name": "stdout",
     "output_type": "stream",
     "text": [
      "Random Forest accuracy: 0.9235668789808917\n"
     ]
    }
   ],
   "source": [
    "print(\"Random Forest accuracy:\", accuracy_score(y_test, rf_predictions))"
   ]
  },
  {
   "cell_type": "markdown",
   "id": "7035ef29-493f-4e9c-a8ff-28d89c82ab08",
   "metadata": {},
   "source": [
    "##### After executing this line, the accuracy of the Random Forest classifier will be printed as a percentage. It is a simple measure in which the correctness of the model in terms of the 'Pass/Fail' labels predicted for the test dataset is calculated. The better the model performs with higher accuracy, the better it is; however, sometimes other metrics must be considered along with accuracy (like precision, recall, and F1 score), where evaluation must be done overall, especially in class imbalance.\n",
    "\n"
   ]
  },
  {
   "cell_type": "code",
   "execution_count": 23,
   "id": "51ac47e1-7620-43bb-ad8c-e9618ce973a1",
   "metadata": {},
   "outputs": [
    {
     "name": "stdout",
     "output_type": "stream",
     "text": [
      "SVM Accuracy: 0.9235668789808917\n"
     ]
    }
   ],
   "source": [
    "print(\"SVM Accuracy:\", accuracy_score(y_test, svm_predictions))"
   ]
  },
  {
   "cell_type": "markdown",
   "id": "8193e443-f442-4e7a-95e1-29b136aa6ea1",
   "metadata": {},
   "source": [
    "##### Printing the performance of the SVM classifier after running this line. The accuracy score provides the percentage by which the SVM model is making correct predictions on the test dataset. Just like with the Random Forest classifier, this score gives a cursory overview of the model's performance; it's generally advisable to use more metrics such as precision, recall, and F1 score in further assessment, especially if the dataset happens to be imbalanced.\n",
    "\n"
   ]
  },
  {
   "cell_type": "code",
   "execution_count": 24,
   "id": "df1a29c7-dd39-4a10-b3c0-ac332e9a214d",
   "metadata": {},
   "outputs": [
    {
     "name": "stdout",
     "output_type": "stream",
     "text": [
      "Naive Bayes 0.2961783439490446\n"
     ]
    }
   ],
   "source": [
    "print(\"Naive Bayes\", accuracy_score(y_test,nb_predictions))"
   ]
  },
  {
   "cell_type": "markdown",
   "id": "64559322-c553-4500-844a-aaf0d177bccb",
   "metadata": {},
   "source": [
    "##### Following is the output of running this cell: The accuracy of the Naive Bayes model appears. Note that it is the proportion of the correct predictions made by this Naive Bayes model. In the last models, while accuracy is one measure of a model's performance, information alone is quite basic. For example, depending on the data (say, class imbalance), precision, recall, and F1 can inform more appropriately about how good the model has been.\n",
    "\n",
    "\n"
   ]
  },
  {
   "cell_type": "code",
   "execution_count": 25,
   "id": "efc1fffa-bcb9-49ab-a628-d42b01eb6c11",
   "metadata": {},
   "outputs": [],
   "source": [
    "def report(test,pred):\n",
    "    report = classification_report(test,pred)\n",
    "    print(report)"
   ]
  },
  {
   "cell_type": "markdown",
   "id": "4c7c2272-346b-471a-b154-30d51c68c501",
   "metadata": {},
   "source": [
    "##### After running this code, for any model, a tidily printed, detailed classification report using function report(test, pred) is right there: it gives insights into the accuracy rate first and foremost but also precision, recall, and the F1 score-practical measures how well it performs on the positive predictions and captures all actual positives, which is quite important while working with unbalanced datasets.\n",
    "\n"
   ]
  },
  {
   "cell_type": "code",
   "execution_count": 26,
   "id": "d3581a71-6e18-4a35-943a-1aa7bf0a2a60",
   "metadata": {},
   "outputs": [
    {
     "name": "stdout",
     "output_type": "stream",
     "text": [
      "              precision    recall  f1-score   support\n",
      "\n",
      "          -1       0.92      1.00      0.96       290\n",
      "           1       0.00      0.00      0.00        24\n",
      "\n",
      "    accuracy                           0.92       314\n",
      "   macro avg       0.46      0.50      0.48       314\n",
      "weighted avg       0.85      0.92      0.89       314\n",
      "\n"
     ]
    },
    {
     "name": "stderr",
     "output_type": "stream",
     "text": [
      "C:\\Users\\Maaz\\AppData\\Roaming\\Python\\Python312\\site-packages\\sklearn\\metrics\\_classification.py:1531: UndefinedMetricWarning: Precision is ill-defined and being set to 0.0 in labels with no predicted samples. Use `zero_division` parameter to control this behavior.\n",
      "  _warn_prf(average, modifier, f\"{metric.capitalize()} is\", len(result))\n",
      "C:\\Users\\Maaz\\AppData\\Roaming\\Python\\Python312\\site-packages\\sklearn\\metrics\\_classification.py:1531: UndefinedMetricWarning: Precision is ill-defined and being set to 0.0 in labels with no predicted samples. Use `zero_division` parameter to control this behavior.\n",
      "  _warn_prf(average, modifier, f\"{metric.capitalize()} is\", len(result))\n",
      "C:\\Users\\Maaz\\AppData\\Roaming\\Python\\Python312\\site-packages\\sklearn\\metrics\\_classification.py:1531: UndefinedMetricWarning: Precision is ill-defined and being set to 0.0 in labels with no predicted samples. Use `zero_division` parameter to control this behavior.\n",
      "  _warn_prf(average, modifier, f\"{metric.capitalize()} is\", len(result))\n"
     ]
    }
   ],
   "source": [
    "report(y_test, rf_predictions)"
   ]
  },
  {
   "cell_type": "markdown",
   "id": "914fff37-0973-4d36-8c91-3f97bf490e91",
   "metadata": {},
   "source": [
    "##### After executing this line, the classification report for the Random Forest classifier is printed. The report includes the following:\n",
    "\n",
    "##### Precision: The percentage of true positive predictions out of all positive predictions.\n",
    "##### Remember: True positive rate represents the fraction of correctly predicted real positives out of the total number of real positives.\n",
    "##### F1 score: The harmonic mean of precision and recall.\n",
    "##### Supporting evidence: Count of how often each class label occurs in the test set.\n",
    "##### Therefore, this report helps deliver a further accurate view of how the model performs beyond simple accuracy, especially in cases involving class imbalance or require strong performance in certain classes."
   ]
  },
  {
   "cell_type": "code",
   "execution_count": 27,
   "id": "b7f3ffaa-103d-4203-b931-46316214e456",
   "metadata": {},
   "outputs": [
    {
     "name": "stdout",
     "output_type": "stream",
     "text": [
      "              precision    recall  f1-score   support\n",
      "\n",
      "          -1       0.92      1.00      0.96       290\n",
      "           1       0.00      0.00      0.00        24\n",
      "\n",
      "    accuracy                           0.92       314\n",
      "   macro avg       0.46      0.50      0.48       314\n",
      "weighted avg       0.85      0.92      0.89       314\n",
      "\n"
     ]
    },
    {
     "name": "stderr",
     "output_type": "stream",
     "text": [
      "C:\\Users\\Maaz\\AppData\\Roaming\\Python\\Python312\\site-packages\\sklearn\\metrics\\_classification.py:1531: UndefinedMetricWarning: Precision is ill-defined and being set to 0.0 in labels with no predicted samples. Use `zero_division` parameter to control this behavior.\n",
      "  _warn_prf(average, modifier, f\"{metric.capitalize()} is\", len(result))\n",
      "C:\\Users\\Maaz\\AppData\\Roaming\\Python\\Python312\\site-packages\\sklearn\\metrics\\_classification.py:1531: UndefinedMetricWarning: Precision is ill-defined and being set to 0.0 in labels with no predicted samples. Use `zero_division` parameter to control this behavior.\n",
      "  _warn_prf(average, modifier, f\"{metric.capitalize()} is\", len(result))\n",
      "C:\\Users\\Maaz\\AppData\\Roaming\\Python\\Python312\\site-packages\\sklearn\\metrics\\_classification.py:1531: UndefinedMetricWarning: Precision is ill-defined and being set to 0.0 in labels with no predicted samples. Use `zero_division` parameter to control this behavior.\n",
      "  _warn_prf(average, modifier, f\"{metric.capitalize()} is\", len(result))\n"
     ]
    }
   ],
   "source": [
    "report(y_test, svm_predictions)"
   ]
  },
  {
   "cell_type": "markdown",
   "id": "bcb07bd9-43de-4838-bf64-b29a1770db8b",
   "metadata": {},
   "source": [
    "##### Now run the code and get a classification report for the SVM classifier, showing metrics for each class:\n",
    "\n",
    "##### Precision: How many of the predicted positive cases were actually positive.\n",
    "##### Recall: Of actual positive cases, how many were really identified as such.\n",
    "##### F1 Score : The harmonic mean of precision and recall, describing well the balanced measure of the efficiency of a model.\n",
    "##### Support: Number of actual occurrences of each class in the test set.\n",
    "##### This report will give you the opportunity to see how well the SVM classifier performed relative to others, particularly in the view of performance for different classes."
   ]
  },
  {
   "cell_type": "markdown",
   "id": "277ce3fb-bd69-46b5-b709-05c91849f397",
   "metadata": {},
   "source": [
    "### Save the Best Model"
   ]
  },
  {
   "cell_type": "markdown",
   "id": "e5d6583e-f3bf-43c3-8e94-8bf9b44b5879",
   "metadata": {},
   "source": [
    "#### Save the selected best-performing model for future use:"
   ]
  },
  {
   "cell_type": "code",
   "execution_count": 28,
   "id": "74a63550-1fb4-413b-8931-5bef7a60f28c",
   "metadata": {},
   "outputs": [],
   "source": [
    "import joblib"
   ]
  },
  {
   "cell_type": "markdown",
   "id": "5a38827a-b4c7-4bf2-83e7-7cdbbdd46ce0",
   "metadata": {},
   "source": [
    "##### During execution of this line, the joblib library is ready for use. You may also save trained models, like the Random Forest, SVM or Naive Bayes classifiers, to file so you can reuse them without retraining; hence you save computational time and resources.\n",
    "\n"
   ]
  },
  {
   "cell_type": "code",
   "execution_count": 29,
   "id": "64e8f1b8-211d-4ad5-9aaf-0f0b76da8c32",
   "metadata": {},
   "outputs": [
    {
     "data": {
      "text/plain": [
       "['svm_model.joblib']"
      ]
     },
     "execution_count": 29,
     "metadata": {},
     "output_type": "execute_result"
    }
   ],
   "source": [
    "joblib.dump(svm, 'svm_model.joblib')"
   ]
  },
  {
   "cell_type": "markdown",
   "id": "bc979a81-0cb8-48fa-bc39-c8a265761726",
   "metadata": {},
   "source": [
    "##### So, after running this line, the trained SVM model will be saved in svm_model.joblib. Later on, you can recover the model and use it for prediction or further analysis without needing to retrain it-thereby for deployment or testing:.\n",
    "\n"
   ]
  },
  {
   "cell_type": "code",
   "execution_count": 30,
   "id": "17bb537e-1ba8-45f3-a1d1-ded4f38a5d2b",
   "metadata": {},
   "outputs": [
    {
     "data": {
      "text/plain": [
       "0.9235668789808917"
      ]
     },
     "execution_count": 30,
     "metadata": {},
     "output_type": "execute_result"
    }
   ],
   "source": [
    "# Load the model from the file\n",
    "loaded_model = joblib.load('svm_model.joblib')\n",
    "\n",
    "# Use the loaded model to make predictions\n",
    "y_pred = loaded_model.predict(X_test)\n",
    "\n",
    "accuracy_score(y_test,y_pred)\n"
   ]
  },
  {
   "cell_type": "markdown",
   "id": "feea5151-d956-4bb5-a19c-0ed44774e07c",
   "metadata": {},
   "source": [
    "##### The saved SVM model is then executed followed by running predictions on test data to verify accuracy score of the loaded model compares to the one originally trained. This process shows how models can be saved and reloaded and used in scenarios for making accurate predictions.\n",
    "\n"
   ]
  },
  {
   "cell_type": "markdown",
   "id": "090a3fb8-61f7-4984-b770-9992343c0c9b",
   "metadata": {},
   "source": [
    "### 6. Conclusion and Improvisation"
   ]
  },
  {
   "cell_type": "markdown",
   "id": "1f9c819e-9107-4b8f-89f5-2ba381701087",
   "metadata": {},
   "source": [
    "## Conclusion\n",
    "\n",
    "- **Data Quality**: The initial data contained missing values which were handled by filling with mean values.\n",
    "- **Feature Selection**: Dimensionality reduction techniques were considered but not applied as the current set of features provided sufficient predictive power.\n",
    "- **Model Performance**: After training and tuning various models, the Random Forest classifier achieved the highest accuracy and was chosen as the final model.\n",
    "- **Future Work**: Consider additional feature engineering or using more advanced models to further enhance performance.\n"
   ]
  },
  {
   "cell_type": "markdown",
   "id": "09e3c74c-21d6-41ea-b8a2-c6d76f755771",
   "metadata": {},
   "source": [
    "## Conclusion\n",
    "\n",
    "1. **Data Quality**: The initial dataset required handling of missing values, which was accomplished by filling them with mean values. Irrelevant features were identified and removed based on domain knowledge.\n",
    "\n",
    "2. **Data Analysis**: \n",
    "   - **Univariate Analysis**: Feature distributions were examined, revealing that some features were heavily skewed.\n",
    "   - **Bivariate Analysis**: Several features showed significant correlations with the target variable, indicating their potential importance.\n",
    "   - **Multivariate Analysis**: Interactions between features were explored, revealing complex relationships that informed feature selection.\n",
    "\n",
    "3. **Model Performance**:\n",
    "   - **Random Forest**: Achieved the highest accuracy among the models tested, demonstrating robust performance.\n",
    "   - **SVM**: Provided competitive accuracy but was more computationally intensive.\n",
    "   - **Naive Bayes**: Offered reasonable accuracy but less effective compared to Random Forest.\n",
    "\n",
    "4. **Hyperparameter Tuning**: GridSearchCV was utilized to optimize model performance. The best model parameters were selected based on cross-validation results.\n",
    "\n",
    "5. **Final Model**: The Random Forest classifier with optimized hyperparameters was selected as the best model due to its high accuracy and robustness.\n",
    "\n",
    "6. **Future Work**: Consider exploring additional feature engineering techniques, experimenting with more advanced models, or integrating external data to further enhance model performance.\n",
    "\n",
    "The selected model has been saved and can be used for future predictions and analysis. Further improvements can be made based on ongoing data collection and feedback from real-world application.\n"
   ]
  },
  {
   "cell_type": "markdown",
   "id": "b2f6860a-07ce-46d4-8085-101f6094b41a",
   "metadata": {},
   "source": [
    "# Submitted By\n",
    "## Group 7\n",
    "#### Mohammad Maazullah\n",
    "#### Mohd Furquan Kafil\n",
    "#### S. Melsia Pearl\n",
    "#### Harsh Upadhyay\n",
    "#### Sana Siddiqui\n",
    "#### Paul Joshua C"
   ]
  },
  {
   "cell_type": "code",
   "execution_count": null,
   "id": "a6f892a0-b107-4ef2-b84b-a5b2a288ff2a",
   "metadata": {},
   "outputs": [],
   "source": []
  }
 ],
 "metadata": {
  "kernelspec": {
   "display_name": "Python 3 (ipykernel)",
   "language": "python",
   "name": "python3"
  },
  "language_info": {
   "codemirror_mode": {
    "name": "ipython",
    "version": 3
   },
   "file_extension": ".py",
   "mimetype": "text/x-python",
   "name": "python",
   "nbconvert_exporter": "python",
   "pygments_lexer": "ipython3",
   "version": "3.12.5"
  }
 },
 "nbformat": 4,
 "nbformat_minor": 5
}
